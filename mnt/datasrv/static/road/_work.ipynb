{
 "cells": [
  {
   "cell_type": "markdown",
   "id": "9bd40d00-441e-4931-9cd0-e9f5c739579a",
   "metadata": {},
   "source": [
    "[国土数値情報 \\| 道路データ](https://nlftp.mlit.go.jp/ksj/gmlold/datalist/gmlold_KsjTmplt-N01.html)\n",
    "\n",
    "東京：https://nlftp.mlit.go.jp/ksj/gmlold/data/N01/N01-07L/N01-07L-13-01.0a_GML.zip"
   ]
  },
  {
   "cell_type": "code",
   "execution_count": null,
   "id": "0b0d45cb-be8d-4a9a-9180-bba414e6ee0e",
   "metadata": {},
   "outputs": [],
   "source": [
    "import pandas as pd\n",
    "import geopandas as gpd\n",
    "import os\n",
    "import urllib.request as rq\n",
    "import plotly.express as px\n",
    "import matplotlib.pyplot as plt"
   ]
  },
  {
   "cell_type": "markdown",
   "id": "f032d07f-9ee4-4bfe-a3c6-1a9810d8f816",
   "metadata": {},
   "source": [
    "# zipファイルの取得\n"
   ]
  },
  {
   "cell_type": "code",
   "execution_count": null,
   "id": "2c9fdb40-07b0-4879-99b9-05e05186aa7f",
   "metadata": {},
   "outputs": [],
   "source": [
    "def get_data(n):\n",
    "    n = f'{n:02}'\n",
    "    url = f\"https://nlftp.mlit.go.jp/ksj/gmlold/data/N01/N01-07L/N01-07L-{n}-01.0a_GML.zip\"\n",
    "    path = f\"raw/{n}.zip\"\n",
    "    \n",
    "    with open(path, \"wb\") as f:\n",
    "        f.write(rq.urlopen(url).read())\n"
   ]
  },
  {
   "cell_type": "code",
   "execution_count": null,
   "id": "a21184ca-d9f8-467a-bad5-033ac6aa5906",
   "metadata": {},
   "outputs": [],
   "source": [
    "def get_all():\n",
    "    for i in range(1, 48):\n",
    "        get_data(i)"
   ]
  },
  {
   "cell_type": "code",
   "execution_count": null,
   "id": "2deae744-fc13-45b2-95ae-37c6297bb96a",
   "metadata": {},
   "outputs": [],
   "source": [
    "get_all()"
   ]
  },
  {
   "cell_type": "markdown",
   "id": "b4e7d5e8-a8f2-4860-8ddb-ab93bfa8ce77",
   "metadata": {},
   "source": [
    "# 前処理"
   ]
  },
  {
   "cell_type": "code",
   "execution_count": null,
   "id": "3174edaa-7d60-4dde-884e-61b68e35cb3e",
   "metadata": {},
   "outputs": [],
   "source": [
    "def pre_proc(gdf):\n",
    "    '''\n",
    "    路線名としてname列にまとめる\n",
    "    '''\n",
    "    gdf[\"N01_004\"] = \"(\" + gdf[\"N01_004\"] + \")\"\n",
    "    gdf.fillna(\"\", inplace=True)\n",
    "    gdf[\"name\"] = gdf[\"N01_002\"] + gdf[\"N01_003\"] + gdf[\"N01_004\"]\n",
    "    return gdf.filter(items=[\"name\", \"geometry\"])"
   ]
  },
  {
   "cell_type": "markdown",
   "id": "7cc75e43-e7d5-4098-91e9-148935e219ba",
   "metadata": {
    "tags": []
   },
   "source": [
    "## linestringをまとめる"
   ]
  },
  {
   "cell_type": "code",
   "execution_count": null,
   "id": "4f3cb69e-d58d-4e61-a296-278751187d84",
   "metadata": {
    "jupyter": {
     "source_hidden": true
    },
    "tags": []
   },
   "outputs": [],
   "source": [
    "from enum import Enum\n",
    "from shapely.geometry import LineString\n",
    "def reduce_lines(gdf, to, name):\n",
    "    '''\n",
    "    parameters\n",
    "        name: 戻り値のDataFrameのname列に使われる\n",
    "        short_name: り値のDataFrameのgroup列の値のprefixとなる\n",
    "        gdf: geopandas.DataFrame\n",
    "            geometry列がLineString型\n",
    "        to: str\n",
    "            \"pandas\" or \"geopandas\"\n",
    "        \n",
    "    return \n",
    "     pandas.DataFrame\n",
    "     columns: ['name', 'group', 'lon', 'lat' ]\n",
    "    '''\n",
    "    \n",
    "    class Direction(Enum):\n",
    "        FORWARD = 0\n",
    "        BACKWARD = 1   \n",
    "        \n",
    "        \n",
    "    def list_to_gdf(l):\n",
    "        '''\n",
    "        parameters\n",
    "            l: list of tuple of lon/lat\n",
    "        return\n",
    "            geopandas.GeoDataFrame\n",
    "            columns: ['geometry' ]\n",
    "        '''\n",
    "        \n",
    "        gdf = gpd.GeoDataFrame({\"geometry\": [LineString(l)]})\n",
    "        return gdf\n",
    "        \n",
    "    def list_to_df(l):\n",
    "        '''\n",
    "        parameters\n",
    "            l: list of tuple of lon/lat\n",
    "        return\n",
    "            pandas.DataFrame\n",
    "            columns: ['group', 'lon', 'lat' ]\n",
    "        '''\n",
    "        \n",
    "        df = pd.DataFrame(l, columns=['lon', 'lat'])\n",
    "        df['group'] = f'{name}_{group_count}'\n",
    "        return df\n",
    "    \n",
    "    if to == \"pandas\":\n",
    "        list_to = list_to_df\n",
    "    elif to == \"geopandas\":\n",
    "        list_to = list_to_gdf\n",
    "    else:\n",
    "        raise TypeError(\"'to' argument must be 'pandas' or 'geopandas'\")\n",
    "        return\n",
    "    \n",
    "    def line_to_tuple(iterable, list_of_tuple):\n",
    "        for i in iterable:\n",
    "            if isinstance(i, LineString):\n",
    "                list_of_tuple.append(tuple(i.coords))\n",
    "            elif isinstance(i, MultiLineString): \n",
    "                line_to_tuple(i, list_of_tuple)\n",
    "        \n",
    "    work = list()\n",
    "    dfs = list()\n",
    "    lines = list()\n",
    "    line_to_tuple(gdf.geometry, lines)\n",
    "    \n",
    "    lines = list(set(lines))\n",
    "    \n",
    "    dir = Direction.BACKWARD\n",
    "    group_count = 1\n",
    "    \n",
    "    \n",
    "    while lines:\n",
    "        if not work:\n",
    "            work.extend(lines.pop(0))\n",
    "            continue\n",
    "        \n",
    "        if dir == Direction.BACKWARD:\n",
    "            for i, line in enumerate(lines):\n",
    "                if work[-1] in line:\n",
    "                    l = list(lines.pop(i))\n",
    "                    if l[0] != work[-1]:\n",
    "                         l.reverse()\n",
    "                    work.extend(l[1:])\n",
    "                    break\n",
    "            else:\n",
    "                dir = Direction.FORWARD\n",
    "                continue\n",
    "        else:\n",
    "            for i, line in enumerate(lines):\n",
    "                if work[0] in line:\n",
    "                    l = list(lines.pop(i))\n",
    "                    if l[-1] != work[0]:\n",
    "                        l.reverse()\n",
    "                    work[0:0] = l[:-1]\n",
    "                    break\n",
    "            else:\n",
    "                dfs.append(list_to(work))\n",
    "                group_count += 1\n",
    "                work = list()\n",
    "                dir = Direction.BACKWARD\n",
    "    \n",
    "    if work:\n",
    "        dfs.append(list_to(work))\n",
    "        \n",
    "    all = pd.concat(dfs)\n",
    "    \n",
    "    if to == \"geopandas\":\n",
    "        all = all.dissolve()\n",
    "    else:\n",
    "        all.reset_index(drop=True, inplace=True)\n",
    "        \n",
    "    all[\"name\"] = name\n",
    "    return all"
   ]
  },
  {
   "cell_type": "code",
   "execution_count": null,
   "id": "b69f1261-6a34-41f3-a354-5b4e72d27e12",
   "metadata": {},
   "outputs": [],
   "source": [
    "def convert_all(gdf, to):\n",
    "    all = list()\n",
    "    for name in gdf.name.unique():\n",
    "        all.append(reduce_lines(gdf.query(f'name.str.startswith(\"{name}\")', engine='python'), to, name))\n",
    "\n",
    "    all_df = pd.concat(all)\n",
    "    all_df.sort_values(by=\"name\", inplace=True)\n",
    "    all_df.reset_index(drop=True, inplace=True)\n",
    "    return all_df"
   ]
  },
  {
   "cell_type": "markdown",
   "id": "b208a3b1-2de1-4855-9d3f-9706ca1e77fa",
   "metadata": {},
   "source": [
    "# geojsonに変換"
   ]
  },
  {
   "cell_type": "code",
   "execution_count": null,
   "id": "f074fa60-a6a5-41c9-be62-6a09f7b6d368",
   "metadata": {},
   "outputs": [],
   "source": [
    "def main():\n",
    "    for i in range(1, 48):\n",
    "        i = f\"{i:02}\"\n",
    "        df = convert_all(pre_proc(gpd.read_file(f'raw/{i}.zip')), \"geopandas\")\n",
    "        with open(f\"{i}.geo.json\", \"w\") as f:\n",
    "            f.write(df.to_json())\n",
    "        \n",
    "main()"
   ]
  },
  {
   "cell_type": "code",
   "execution_count": null,
   "id": "447e2200-abc9-44b0-b6ea-c8a33a6804b8",
   "metadata": {},
   "outputs": [],
   "source": [
    "# 確認\n",
    "foo = gpd.read_file(\"13.geo.json\")\n",
    "foo"
   ]
  },
  {
   "cell_type": "markdown",
   "id": "94d14b5a-fef7-4597-ad72-cc91caeab77e",
   "metadata": {},
   "source": [
    "# work"
   ]
  },
  {
   "cell_type": "code",
   "execution_count": null,
   "id": "19796b8e-56fa-40ea-bee4-8aeb81f7e7a2",
   "metadata": {},
   "outputs": [],
   "source": [
    "oki = gpd.read_file(\"raw/47.zip\")"
   ]
  },
  {
   "cell_type": "code",
   "execution_count": null,
   "id": "26467840-f44c-4d06-8457-c0fbc39f6450",
   "metadata": {},
   "outputs": [],
   "source": [
    "oki = pre_proc(oki)"
   ]
  },
  {
   "cell_type": "code",
   "execution_count": null,
   "id": "3c00a3fe-4f92-47c1-b962-f3f3415d4baf",
   "metadata": {},
   "outputs": [],
   "source": [
    "oki"
   ]
  },
  {
   "cell_type": "code",
   "execution_count": null,
   "id": "4b3d750f-88c2-4369-810f-709e42eda482",
   "metadata": {},
   "outputs": [],
   "source": [
    "oki.query('name == \"糸満与那原線\"').plot(); plt.show()"
   ]
  },
  {
   "cell_type": "code",
   "execution_count": null,
   "id": "3cf7972b-1317-453e-958c-e50213673a5f",
   "metadata": {},
   "outputs": [],
   "source": []
  }
 ],
 "metadata": {
  "kernelspec": {
   "display_name": "Python 3",
   "language": "python",
   "name": "python3"
  },
  "language_info": {
   "codemirror_mode": {
    "name": "ipython",
    "version": 3
   },
   "file_extension": ".py",
   "mimetype": "text/x-python",
   "name": "python",
   "nbconvert_exporter": "python",
   "pygments_lexer": "ipython3",
   "version": "3.8.2"
  },
  "toc-autonumbering": true,
  "toc-showcode": false,
  "toc-showmarkdowntxt": false
 },
 "nbformat": 4,
 "nbformat_minor": 5
}
